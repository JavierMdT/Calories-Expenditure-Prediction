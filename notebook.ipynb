{
 "cells": [
  {
   "cell_type": "markdown",
   "id": "157f9938",
   "metadata": {},
   "source": [
    "# Calorie-Expenditure Prediction"
   ]
  },
  {
   "cell_type": "code",
   "execution_count": 4,
   "id": "4ef91545",
   "metadata": {},
   "outputs": [],
   "source": [
    "# Libraries \n",
    "import pandas as pd \n",
    "import rtoml"
   ]
  },
  {
   "cell_type": "code",
   "execution_count": null,
   "id": "5325e4d3",
   "metadata": {},
   "outputs": [],
   "source": [
    "# Config\n",
    "with open(\"pyproject.toml\",\"r\",encoding=\"utf-8\") as f:\n",
    "    toml = rtoml.load(f)\n",
    "\n",
    "# Data\n",
    "train = pd.read_csv(toml[\"config\"][\"train\"])\n",
    "test = pd.read_csv(toml[\"config\"][\"test\"])\n",
    "sample = pd.read_csv(toml[\"config\"][\"sample\"])"
   ]
  },
  {
   "cell_type": "markdown",
   "id": "fb3bd178",
   "metadata": {},
   "source": [
    "## 1. EDA"
   ]
  },
  {
   "cell_type": "markdown",
   "id": "1a599c55",
   "metadata": {},
   "source": [
    "1. Train es el conjunto para el entrenamiento del modelo\n",
    "2. Test es el conjunto para evaluar las prestaciones de los modelos, no contiene el target\n",
    "3. Sample contiene los targets para Test, se puede hacer un \"Join\" por id"
   ]
  },
  {
   "cell_type": "code",
   "execution_count": null,
   "id": "0d6bbdeb",
   "metadata": {},
   "outputs": [],
   "source": [
    "# Join por id entre test y sample, para manejar solo dos dataframes\n",
    "test = pd.merge(test, sample, on=\"id\")"
   ]
  },
  {
   "cell_type": "code",
   "execution_count": 15,
   "id": "3586bfa1",
   "metadata": {},
   "outputs": [
    {
     "name": "stdout",
     "output_type": "stream",
     "text": [
      "<class 'pandas.core.frame.DataFrame'>\n",
      "RangeIndex: 750000 entries, 0 to 749999\n",
      "Data columns (total 9 columns):\n",
      " #   Column      Non-Null Count   Dtype  \n",
      "---  ------      --------------   -----  \n",
      " 0   id          750000 non-null  int64  \n",
      " 1   Sex         750000 non-null  object \n",
      " 2   Age         750000 non-null  int64  \n",
      " 3   Height      750000 non-null  float64\n",
      " 4   Weight      750000 non-null  float64\n",
      " 5   Duration    750000 non-null  float64\n",
      " 6   Heart_Rate  750000 non-null  float64\n",
      " 7   Body_Temp   750000 non-null  float64\n",
      " 8   Calories    750000 non-null  float64\n",
      "dtypes: float64(6), int64(2), object(1)\n",
      "memory usage: 51.5+ MB\n"
     ]
    }
   ],
   "source": [
    "# Visualization of a few rows observations\n",
    "train.info()"
   ]
  },
  {
   "cell_type": "markdown",
   "id": "f554f215",
   "metadata": {},
   "source": [
    "**Variables**:<br>\n",
    "| NOMBRE | DESCRIPCION  | TIPO | NULOS | CAMBIAR TIPO | \n",
    "|------------|--------------|--------------|--------------|------------|\n",
    "| id | Identificador del sujeto | int | NO |  NO |\n",
    "| sexo | Sexo del sujeto | bin | NO | SI |\n",
    "| Age | Edad del sujeto | int | NO | NO |\n",
    "| Height | Altura del sujeto | float | NO | NO |\n",
    "| Weight | Peso del sujeto | float | NO | NO |\n",
    "| Duration | Duracion del ejercicio | float | NO | NO |\n",
    "| Heart_Rate | Ritmo cardíaco | float | NO | NO |\n",
    "| Body_Temp | Temperatura del sujeto | float | NO | NO |\n",
    "| Calories | Calorias quemadas (target) | float | NO | NO |\n",
    "\n",
    "\n",
    "\n",
    "\n"
   ]
  },
  {
   "cell_type": "code",
   "execution_count": 38,
   "id": "6ab0754d",
   "metadata": {},
   "outputs": [
    {
     "name": "stdout",
     "output_type": "stream",
     "text": [
      "Numero de filas en train:   750000\n",
      "Numero de filas en test:    250000\n",
      "Numero de caracteristicas:  8\n"
     ]
    }
   ],
   "source": [
    "# Informacion extra\n",
    "print(\"Numero de filas en train:  \",train.shape[0])\n",
    "print(\"Numero de filas en test:   \",test.shape[0])\n",
    "print(\"Numero de caracteristicas: \",train.shape[1]-1)"
   ]
  }
 ],
 "metadata": {
  "kernelspec": {
   "display_name": ".env",
   "language": "python",
   "name": "python3"
  },
  "language_info": {
   "codemirror_mode": {
    "name": "ipython",
    "version": 3
   },
   "file_extension": ".py",
   "mimetype": "text/x-python",
   "name": "python",
   "nbconvert_exporter": "python",
   "pygments_lexer": "ipython3",
   "version": "3.12.0"
  }
 },
 "nbformat": 4,
 "nbformat_minor": 5
}
