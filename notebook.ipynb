{
 "cells": [
  {
   "cell_type": "markdown",
   "id": "157f9938",
   "metadata": {},
   "source": [
    "# Calorie-Expenditure Prediction"
   ]
  },
  {
   "cell_type": "code",
   "execution_count": 85,
   "id": "4ef91545",
   "metadata": {},
   "outputs": [],
   "source": [
    "# Libraries \n",
    "import pandas as pd \n",
    "import rtoml\n",
    "import matplotlib.pyplot as plt\n",
    "import seaborn as sns"
   ]
  },
  {
   "cell_type": "code",
   "execution_count": 6,
   "id": "5325e4d3",
   "metadata": {},
   "outputs": [],
   "source": [
    "# Config\n",
    "with open(\"pyproject.toml\",\"r\",encoding=\"utf-8\") as f:\n",
    "    toml = rtoml.load(f)\n",
    "\n",
    "# Data\n",
    "train = pd.read_csv(toml[\"config\"][\"train\"])\n",
    "test = pd.read_csv(toml[\"config\"][\"test\"])\n",
    "sample = pd.read_csv(toml[\"config\"][\"sample\"])"
   ]
  },
  {
   "cell_type": "markdown",
   "id": "fb3bd178",
   "metadata": {},
   "source": [
    "## 1. EDA"
   ]
  },
  {
   "cell_type": "markdown",
   "id": "ce6eedfd",
   "metadata": {},
   "source": [
    "### 1.1 First look"
   ]
  },
  {
   "cell_type": "markdown",
   "id": "1a599c55",
   "metadata": {},
   "source": [
    "1. Train es el conjunto para el entrenamiento del modelo\n",
    "2. Test es el conjunto para evaluar las prestaciones de los modelos, no contiene el target\n",
    "3. Sample contiene los targets para Test, se puede hacer un \"Join\" por id"
   ]
  },
  {
   "cell_type": "code",
   "execution_count": null,
   "id": "0d6bbdeb",
   "metadata": {},
   "outputs": [],
   "source": [
    "# Join between test and sample\n",
    "test = pd.merge(test, sample, on=\"id\")"
   ]
  },
  {
   "cell_type": "code",
   "execution_count": 12,
   "id": "3586bfa1",
   "metadata": {},
   "outputs": [
    {
     "name": "stdout",
     "output_type": "stream",
     "text": [
      "<class 'pandas.core.frame.DataFrame'>\n",
      "RangeIndex: 750000 entries, 0 to 749999\n",
      "Data columns (total 9 columns):\n",
      " #   Column      Non-Null Count   Dtype  \n",
      "---  ------      --------------   -----  \n",
      " 0   id          750000 non-null  int64  \n",
      " 1   Sex         750000 non-null  object \n",
      " 2   Age         750000 non-null  int64  \n",
      " 3   Height      750000 non-null  float64\n",
      " 4   Weight      750000 non-null  float64\n",
      " 5   Duration    750000 non-null  float64\n",
      " 6   Heart_Rate  750000 non-null  float64\n",
      " 7   Body_Temp   750000 non-null  float64\n",
      " 8   Calories    750000 non-null  float64\n",
      "dtypes: float64(6), int64(2), object(1)\n",
      "memory usage: 51.5+ MB\n"
     ]
    }
   ],
   "source": [
    "# Visualization of a few rows observations\n",
    "train.info()"
   ]
  },
  {
   "cell_type": "markdown",
   "id": "f554f215",
   "metadata": {},
   "source": [
    "**Variables**:<br>\n",
    "| NOMBRE | DESCRIPCION  | TIPO | NULOS | CAMBIAR TIPO | \n",
    "|------------|--------------|--------------|--------------|------------|\n",
    "| id | Identificator of the subject | int | NO |  NO |\n",
    "| sexo | Subject's sex | bin | NO | YES |\n",
    "| Age | Subject's age (years) | int | NO | NO |\n",
    "| Height | Subject's height (cm) | float | NO | NO |\n",
    "| Weight | Subject's weight (kg) | float | NO | NO |\n",
    "| Duration | Exercice duration (min) | float | NO | NO |\n",
    "| Heart_Rate | Subject's heart rate (lpm) | float | NO | NO |\n",
    "| Body_Temp | Subject's boty temperature (ºC) | float | NO | NO |\n",
    "| Calories | Burnt calories (target) | float | NO | NO |\n",
    "\n",
    "\n",
    "\n",
    "\n"
   ]
  },
  {
   "cell_type": "code",
   "execution_count": 24,
   "id": "6ab0754d",
   "metadata": {},
   "outputs": [
    {
     "name": "stdout",
     "output_type": "stream",
     "text": [
      "Number of rows in train:    750000\n",
      "Number of rows in test:     250000\n",
      "Number of features:         8\n"
     ]
    }
   ],
   "source": [
    "# Informacion extra\n",
    "print(\"Number of rows in train:   \",train.shape[0])\n",
    "print(\"Number of rows in test:    \",test.shape[0])\n",
    "print(\"Number of features:        \",train.shape[1]-1)"
   ]
  },
  {
   "cell_type": "code",
   "execution_count": 23,
   "id": "990bdc7a",
   "metadata": {},
   "outputs": [
    {
     "data": {
      "application/vnd.microsoft.datawrangler.viewer.v0+json": {
       "columns": [
        {
         "name": "index",
         "rawType": "int64",
         "type": "integer"
        },
        {
         "name": "id",
         "rawType": "int64",
         "type": "integer"
        },
        {
         "name": "Sex",
         "rawType": "object",
         "type": "string"
        },
        {
         "name": "Age",
         "rawType": "int64",
         "type": "integer"
        },
        {
         "name": "Height",
         "rawType": "float64",
         "type": "float"
        },
        {
         "name": "Weight",
         "rawType": "float64",
         "type": "float"
        },
        {
         "name": "Duration",
         "rawType": "float64",
         "type": "float"
        },
        {
         "name": "Heart_Rate",
         "rawType": "float64",
         "type": "float"
        },
        {
         "name": "Body_Temp",
         "rawType": "float64",
         "type": "float"
        },
        {
         "name": "Calories",
         "rawType": "float64",
         "type": "float"
        }
       ],
       "ref": "eff6572b-6ffc-40b1-841d-5fbfaf7eff71",
       "rows": [
        [
         "248676",
         "248676",
         "male",
         "51",
         "201.0",
         "100.0",
         "22.0",
         "100.0",
         "40.6",
         "139.0"
        ],
        [
         "339307",
         "339307",
         "female",
         "74",
         "156.0",
         "56.0",
         "20.0",
         "105.0",
         "40.7",
         "135.0"
        ],
        [
         "352967",
         "352967",
         "female",
         "48",
         "160.0",
         "60.0",
         "23.0",
         "101.0",
         "40.5",
         "135.0"
        ],
        [
         "693440",
         "693440",
         "male",
         "63",
         "199.0",
         "106.0",
         "26.0",
         "112.0",
         "40.9",
         "229.0"
        ],
        [
         "124929",
         "124929",
         "male",
         "34",
         "192.0",
         "89.0",
         "13.0",
         "96.0",
         "40.1",
         "64.0"
        ],
        [
         "422409",
         "422409",
         "male",
         "51",
         "186.0",
         "87.0",
         "19.0",
         "94.0",
         "40.7",
         "103.0"
        ],
        [
         "576405",
         "576405",
         "male",
         "20",
         "193.0",
         "91.0",
         "13.0",
         "91.0",
         "40.1",
         "44.0"
        ],
        [
         "327848",
         "327848",
         "female",
         "30",
         "161.0",
         "61.0",
         "30.0",
         "102.0",
         "40.5",
         "181.0"
        ],
        [
         "432440",
         "432440",
         "male",
         "43",
         "184.0",
         "86.0",
         "6.0",
         "89.0",
         "39.6",
         "24.0"
        ],
        [
         "342358",
         "342358",
         "male",
         "66",
         "179.0",
         "87.0",
         "27.0",
         "101.0",
         "41.0",
         "202.0"
        ]
       ],
       "shape": {
        "columns": 9,
        "rows": 10
       }
      },
      "text/html": [
       "<div>\n",
       "<style scoped>\n",
       "    .dataframe tbody tr th:only-of-type {\n",
       "        vertical-align: middle;\n",
       "    }\n",
       "\n",
       "    .dataframe tbody tr th {\n",
       "        vertical-align: top;\n",
       "    }\n",
       "\n",
       "    .dataframe thead th {\n",
       "        text-align: right;\n",
       "    }\n",
       "</style>\n",
       "<table border=\"1\" class=\"dataframe\">\n",
       "  <thead>\n",
       "    <tr style=\"text-align: right;\">\n",
       "      <th></th>\n",
       "      <th>id</th>\n",
       "      <th>Sex</th>\n",
       "      <th>Age</th>\n",
       "      <th>Height</th>\n",
       "      <th>Weight</th>\n",
       "      <th>Duration</th>\n",
       "      <th>Heart_Rate</th>\n",
       "      <th>Body_Temp</th>\n",
       "      <th>Calories</th>\n",
       "    </tr>\n",
       "  </thead>\n",
       "  <tbody>\n",
       "    <tr>\n",
       "      <th>248676</th>\n",
       "      <td>248676</td>\n",
       "      <td>male</td>\n",
       "      <td>51</td>\n",
       "      <td>201.0</td>\n",
       "      <td>100.0</td>\n",
       "      <td>22.0</td>\n",
       "      <td>100.0</td>\n",
       "      <td>40.6</td>\n",
       "      <td>139.0</td>\n",
       "    </tr>\n",
       "    <tr>\n",
       "      <th>339307</th>\n",
       "      <td>339307</td>\n",
       "      <td>female</td>\n",
       "      <td>74</td>\n",
       "      <td>156.0</td>\n",
       "      <td>56.0</td>\n",
       "      <td>20.0</td>\n",
       "      <td>105.0</td>\n",
       "      <td>40.7</td>\n",
       "      <td>135.0</td>\n",
       "    </tr>\n",
       "    <tr>\n",
       "      <th>352967</th>\n",
       "      <td>352967</td>\n",
       "      <td>female</td>\n",
       "      <td>48</td>\n",
       "      <td>160.0</td>\n",
       "      <td>60.0</td>\n",
       "      <td>23.0</td>\n",
       "      <td>101.0</td>\n",
       "      <td>40.5</td>\n",
       "      <td>135.0</td>\n",
       "    </tr>\n",
       "    <tr>\n",
       "      <th>693440</th>\n",
       "      <td>693440</td>\n",
       "      <td>male</td>\n",
       "      <td>63</td>\n",
       "      <td>199.0</td>\n",
       "      <td>106.0</td>\n",
       "      <td>26.0</td>\n",
       "      <td>112.0</td>\n",
       "      <td>40.9</td>\n",
       "      <td>229.0</td>\n",
       "    </tr>\n",
       "    <tr>\n",
       "      <th>124929</th>\n",
       "      <td>124929</td>\n",
       "      <td>male</td>\n",
       "      <td>34</td>\n",
       "      <td>192.0</td>\n",
       "      <td>89.0</td>\n",
       "      <td>13.0</td>\n",
       "      <td>96.0</td>\n",
       "      <td>40.1</td>\n",
       "      <td>64.0</td>\n",
       "    </tr>\n",
       "    <tr>\n",
       "      <th>422409</th>\n",
       "      <td>422409</td>\n",
       "      <td>male</td>\n",
       "      <td>51</td>\n",
       "      <td>186.0</td>\n",
       "      <td>87.0</td>\n",
       "      <td>19.0</td>\n",
       "      <td>94.0</td>\n",
       "      <td>40.7</td>\n",
       "      <td>103.0</td>\n",
       "    </tr>\n",
       "    <tr>\n",
       "      <th>576405</th>\n",
       "      <td>576405</td>\n",
       "      <td>male</td>\n",
       "      <td>20</td>\n",
       "      <td>193.0</td>\n",
       "      <td>91.0</td>\n",
       "      <td>13.0</td>\n",
       "      <td>91.0</td>\n",
       "      <td>40.1</td>\n",
       "      <td>44.0</td>\n",
       "    </tr>\n",
       "    <tr>\n",
       "      <th>327848</th>\n",
       "      <td>327848</td>\n",
       "      <td>female</td>\n",
       "      <td>30</td>\n",
       "      <td>161.0</td>\n",
       "      <td>61.0</td>\n",
       "      <td>30.0</td>\n",
       "      <td>102.0</td>\n",
       "      <td>40.5</td>\n",
       "      <td>181.0</td>\n",
       "    </tr>\n",
       "    <tr>\n",
       "      <th>432440</th>\n",
       "      <td>432440</td>\n",
       "      <td>male</td>\n",
       "      <td>43</td>\n",
       "      <td>184.0</td>\n",
       "      <td>86.0</td>\n",
       "      <td>6.0</td>\n",
       "      <td>89.0</td>\n",
       "      <td>39.6</td>\n",
       "      <td>24.0</td>\n",
       "    </tr>\n",
       "    <tr>\n",
       "      <th>342358</th>\n",
       "      <td>342358</td>\n",
       "      <td>male</td>\n",
       "      <td>66</td>\n",
       "      <td>179.0</td>\n",
       "      <td>87.0</td>\n",
       "      <td>27.0</td>\n",
       "      <td>101.0</td>\n",
       "      <td>41.0</td>\n",
       "      <td>202.0</td>\n",
       "    </tr>\n",
       "  </tbody>\n",
       "</table>\n",
       "</div>"
      ],
      "text/plain": [
       "            id     Sex  Age  Height  Weight  Duration  Heart_Rate  Body_Temp  \\\n",
       "248676  248676    male   51   201.0   100.0      22.0       100.0       40.6   \n",
       "339307  339307  female   74   156.0    56.0      20.0       105.0       40.7   \n",
       "352967  352967  female   48   160.0    60.0      23.0       101.0       40.5   \n",
       "693440  693440    male   63   199.0   106.0      26.0       112.0       40.9   \n",
       "124929  124929    male   34   192.0    89.0      13.0        96.0       40.1   \n",
       "422409  422409    male   51   186.0    87.0      19.0        94.0       40.7   \n",
       "576405  576405    male   20   193.0    91.0      13.0        91.0       40.1   \n",
       "327848  327848  female   30   161.0    61.0      30.0       102.0       40.5   \n",
       "432440  432440    male   43   184.0    86.0       6.0        89.0       39.6   \n",
       "342358  342358    male   66   179.0    87.0      27.0       101.0       41.0   \n",
       "\n",
       "        Calories  \n",
       "248676     139.0  \n",
       "339307     135.0  \n",
       "352967     135.0  \n",
       "693440     229.0  \n",
       "124929      64.0  \n",
       "422409     103.0  \n",
       "576405      44.0  \n",
       "327848     181.0  \n",
       "432440      24.0  \n",
       "342358     202.0  "
      ]
     },
     "execution_count": 23,
     "metadata": {},
     "output_type": "execute_result"
    }
   ],
   "source": [
    "# Some observations\n",
    "train.sample(10)"
   ]
  },
  {
   "cell_type": "code",
   "execution_count": 27,
   "id": "f90a8d46",
   "metadata": {},
   "outputs": [
    {
     "data": {
      "application/vnd.microsoft.datawrangler.viewer.v0+json": {
       "columns": [
        {
         "name": "index",
         "rawType": "object",
         "type": "string"
        },
        {
         "name": "Age",
         "rawType": "float64",
         "type": "float"
        },
        {
         "name": "Height",
         "rawType": "float64",
         "type": "float"
        },
        {
         "name": "Weight",
         "rawType": "float64",
         "type": "float"
        },
        {
         "name": "Duration",
         "rawType": "float64",
         "type": "float"
        },
        {
         "name": "Heart_Rate",
         "rawType": "float64",
         "type": "float"
        },
        {
         "name": "Body_Temp",
         "rawType": "float64",
         "type": "float"
        },
        {
         "name": "Calories",
         "rawType": "float64",
         "type": "float"
        }
       ],
       "ref": "d6c01d0c-0c19-4e1c-b1dc-a88491cfa006",
       "rows": [
        [
         "count",
         "750000.0",
         "750000.0",
         "750000.0",
         "750000.0",
         "750000.0",
         "750000.0",
         "750000.0"
        ],
        [
         "mean",
         "41.420404",
         "174.69768546666666",
         "75.145668",
         "15.421014666666666",
         "95.48399465764",
         "40.03625318080532",
         "88.28278133333333"
        ],
        [
         "std",
         "15.175048847354466",
         "12.824495661032993",
         "13.982703512617746",
         "8.35409542509932",
         "9.449845358526956",
         "0.7798745572755796",
         "62.39534902771433"
        ],
        [
         "min",
         "20.0",
         "126.0",
         "36.0",
         "1.0",
         "67.0",
         "37.1",
         "1.0"
        ],
        [
         "25%",
         "28.0",
         "164.0",
         "63.0",
         "8.0",
         "88.0",
         "39.6",
         "34.0"
        ],
        [
         "50%",
         "40.0",
         "174.0",
         "74.0",
         "15.0",
         "95.0",
         "40.3",
         "77.0"
        ],
        [
         "75%",
         "52.0",
         "185.0",
         "87.0",
         "23.0",
         "103.0",
         "40.7",
         "136.0"
        ],
        [
         "max",
         "79.0",
         "222.0",
         "132.0",
         "30.0",
         "128.0",
         "41.5",
         "314.0"
        ]
       ],
       "shape": {
        "columns": 7,
        "rows": 8
       }
      },
      "text/html": [
       "<div>\n",
       "<style scoped>\n",
       "    .dataframe tbody tr th:only-of-type {\n",
       "        vertical-align: middle;\n",
       "    }\n",
       "\n",
       "    .dataframe tbody tr th {\n",
       "        vertical-align: top;\n",
       "    }\n",
       "\n",
       "    .dataframe thead th {\n",
       "        text-align: right;\n",
       "    }\n",
       "</style>\n",
       "<table border=\"1\" class=\"dataframe\">\n",
       "  <thead>\n",
       "    <tr style=\"text-align: right;\">\n",
       "      <th></th>\n",
       "      <th>Age</th>\n",
       "      <th>Height</th>\n",
       "      <th>Weight</th>\n",
       "      <th>Duration</th>\n",
       "      <th>Heart_Rate</th>\n",
       "      <th>Body_Temp</th>\n",
       "      <th>Calories</th>\n",
       "    </tr>\n",
       "  </thead>\n",
       "  <tbody>\n",
       "    <tr>\n",
       "      <th>count</th>\n",
       "      <td>750000.000000</td>\n",
       "      <td>750000.000000</td>\n",
       "      <td>750000.000000</td>\n",
       "      <td>750000.000000</td>\n",
       "      <td>750000.000000</td>\n",
       "      <td>750000.000000</td>\n",
       "      <td>750000.000000</td>\n",
       "    </tr>\n",
       "    <tr>\n",
       "      <th>mean</th>\n",
       "      <td>41.420404</td>\n",
       "      <td>174.697685</td>\n",
       "      <td>75.145668</td>\n",
       "      <td>15.421015</td>\n",
       "      <td>95.483995</td>\n",
       "      <td>40.036253</td>\n",
       "      <td>88.282781</td>\n",
       "    </tr>\n",
       "    <tr>\n",
       "      <th>std</th>\n",
       "      <td>15.175049</td>\n",
       "      <td>12.824496</td>\n",
       "      <td>13.982704</td>\n",
       "      <td>8.354095</td>\n",
       "      <td>9.449845</td>\n",
       "      <td>0.779875</td>\n",
       "      <td>62.395349</td>\n",
       "    </tr>\n",
       "    <tr>\n",
       "      <th>min</th>\n",
       "      <td>20.000000</td>\n",
       "      <td>126.000000</td>\n",
       "      <td>36.000000</td>\n",
       "      <td>1.000000</td>\n",
       "      <td>67.000000</td>\n",
       "      <td>37.100000</td>\n",
       "      <td>1.000000</td>\n",
       "    </tr>\n",
       "    <tr>\n",
       "      <th>25%</th>\n",
       "      <td>28.000000</td>\n",
       "      <td>164.000000</td>\n",
       "      <td>63.000000</td>\n",
       "      <td>8.000000</td>\n",
       "      <td>88.000000</td>\n",
       "      <td>39.600000</td>\n",
       "      <td>34.000000</td>\n",
       "    </tr>\n",
       "    <tr>\n",
       "      <th>50%</th>\n",
       "      <td>40.000000</td>\n",
       "      <td>174.000000</td>\n",
       "      <td>74.000000</td>\n",
       "      <td>15.000000</td>\n",
       "      <td>95.000000</td>\n",
       "      <td>40.300000</td>\n",
       "      <td>77.000000</td>\n",
       "    </tr>\n",
       "    <tr>\n",
       "      <th>75%</th>\n",
       "      <td>52.000000</td>\n",
       "      <td>185.000000</td>\n",
       "      <td>87.000000</td>\n",
       "      <td>23.000000</td>\n",
       "      <td>103.000000</td>\n",
       "      <td>40.700000</td>\n",
       "      <td>136.000000</td>\n",
       "    </tr>\n",
       "    <tr>\n",
       "      <th>max</th>\n",
       "      <td>79.000000</td>\n",
       "      <td>222.000000</td>\n",
       "      <td>132.000000</td>\n",
       "      <td>30.000000</td>\n",
       "      <td>128.000000</td>\n",
       "      <td>41.500000</td>\n",
       "      <td>314.000000</td>\n",
       "    </tr>\n",
       "  </tbody>\n",
       "</table>\n",
       "</div>"
      ],
      "text/plain": [
       "                 Age         Height         Weight       Duration  \\\n",
       "count  750000.000000  750000.000000  750000.000000  750000.000000   \n",
       "mean       41.420404     174.697685      75.145668      15.421015   \n",
       "std        15.175049      12.824496      13.982704       8.354095   \n",
       "min        20.000000     126.000000      36.000000       1.000000   \n",
       "25%        28.000000     164.000000      63.000000       8.000000   \n",
       "50%        40.000000     174.000000      74.000000      15.000000   \n",
       "75%        52.000000     185.000000      87.000000      23.000000   \n",
       "max        79.000000     222.000000     132.000000      30.000000   \n",
       "\n",
       "          Heart_Rate      Body_Temp       Calories  \n",
       "count  750000.000000  750000.000000  750000.000000  \n",
       "mean       95.483995      40.036253      88.282781  \n",
       "std         9.449845       0.779875      62.395349  \n",
       "min        67.000000      37.100000       1.000000  \n",
       "25%        88.000000      39.600000      34.000000  \n",
       "50%        95.000000      40.300000      77.000000  \n",
       "75%       103.000000      40.700000     136.000000  \n",
       "max       128.000000      41.500000     314.000000  "
      ]
     },
     "execution_count": 27,
     "metadata": {},
     "output_type": "execute_result"
    }
   ],
   "source": [
    "train.drop(columns=[\"id\"]).describe()"
   ]
  },
  {
   "cell_type": "markdown",
   "id": "3c906707",
   "metadata": {},
   "source": [
    "In general, all features are within a reasonable range of values. The only weird thing is that the minimum weight is 36 kg, which, taking into consideration that the minimum age is 20 years old, is way too low. However, the minimum height is 126 cm, so maybe there are subjects with achondroplasia. If I’m right, there shouldn’t be any problems with the data, so I’ll work with the dataset ignoring these facts."
   ]
  },
  {
   "cell_type": "markdown",
   "id": "ba9e8d7c",
   "metadata": {},
   "source": [
    "### 1.2 Correlations"
   ]
  },
  {
   "cell_type": "code",
   "execution_count": 89,
   "id": "66762258",
   "metadata": {},
   "outputs": [
    {
     "data": {
      "image/png": "[encoded data removed]",
      "text/plain": [
       "<Figure size 640x480 with 1 Axes>"
      ]
     },
     "metadata": {},
     "output_type": "display_data"
    }
   ],
   "source": [
    "# Correlation matrix\n",
    "corr_matrix = train.drop(columns=[\"id\",\"Sex\"]).corr() \n",
    "\n",
    "# Plot\n",
    "sns.heatmap(corr_matrix, annot=True, cmap=\"viridis\", linewidths=4, cbar=False,linecolor=\"gray\")\n",
    "plt.show()"
   ]
  },
  {
   "cell_type": "markdown",
   "id": "db17694a",
   "metadata": {},
   "source": [
    "**-- POR AQUI --**"
   ]
  },
  {
   "cell_type": "markdown",
   "id": "29df7c11",
   "metadata": {},
   "source": [
    "### 1.3 Boxplots"
   ]
  }
 ],
 "metadata": {
  "kernelspec": {
   "display_name": ".env",
   "language": "python",
   "name": "python3"
  },
  "language_info": {
   "codemirror_mode": {
    "name": "ipython",
    "version": 3
   },
   "file_extension": ".py",
   "mimetype": "text/x-python",
   "name": "python",
   "nbconvert_exporter": "python",
   "pygments_lexer": "ipython3",
   "version": "3.12.0"
  }
 },
 "nbformat": 4,
 "nbformat_minor": 5
}
