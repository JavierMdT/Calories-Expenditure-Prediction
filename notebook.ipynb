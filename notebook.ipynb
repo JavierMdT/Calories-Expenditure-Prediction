{
 "cells": [
  {
   "cell_type": "markdown",
   "id": "157f9938",
   "metadata": {},
   "source": [
    "# Calorie-Expenditure Prediction"
   ]
  },
  {
   "cell_type": "code",
   "execution_count": 1,
   "id": "4ef91545",
   "metadata": {},
   "outputs": [],
   "source": [
    "# Libraries \n",
    "import pandas as pd \n",
    "import rtoml\n",
    "import matplotlib.pyplot as plt\n",
    "import seaborn as sns\n",
    "import numpy as np\n",
    "import sklearn\n",
    "from sklearn.metrics import mean_absolute_error, mean_squared_error\n",
    "from sklearn.model_selection import GridSearchCV"
   ]
  },
  {
   "cell_type": "code",
   "execution_count": 2,
   "id": "5325e4d3",
   "metadata": {},
   "outputs": [],
   "source": [
    "# Config\n",
    "with open(\"pyproject.toml\",\"r\",encoding=\"utf-8\") as f:\n",
    "    toml = rtoml.load(f)\n",
    "\n",
    "# Data\n",
    "train = pd.read_csv(toml[\"config\"][\"train\"])\n",
    "train_X = train.drop(columns=[\"Calories\"])\n",
    "train_Y = train[[\"id\",\"Calories\"]]\n",
    "test_X = pd.read_csv(toml[\"config\"][\"test\"])\n",
    "test_Y = pd.read_csv(toml[\"config\"][\"sample\"])"
   ]
  },
  {
   "cell_type": "markdown",
   "id": "fb3bd178",
   "metadata": {},
   "source": [
    "## 1. EDA"
   ]
  },
  {
   "cell_type": "markdown",
   "id": "ce6eedfd",
   "metadata": {},
   "source": [
    "### 1.1 First look"
   ]
  },
  {
   "cell_type": "code",
   "execution_count": 3,
   "id": "3586bfa1",
   "metadata": {},
   "outputs": [
    {
     "name": "stdout",
     "output_type": "stream",
     "text": [
      "<class 'pandas.core.frame.DataFrame'>\n",
      "RangeIndex: 750000 entries, 0 to 749999\n",
      "Data columns (total 9 columns):\n",
      " #   Column      Non-Null Count   Dtype  \n",
      "---  ------      --------------   -----  \n",
      " 0   id          750000 non-null  int64  \n",
      " 1   Sex         750000 non-null  object \n",
      " 2   Age         750000 non-null  int64  \n",
      " 3   Height      750000 non-null  float64\n",
      " 4   Weight      750000 non-null  float64\n",
      " 5   Duration    750000 non-null  float64\n",
      " 6   Heart_Rate  750000 non-null  float64\n",
      " 7   Body_Temp   750000 non-null  float64\n",
      " 8   Calories    750000 non-null  float64\n",
      "dtypes: float64(6), int64(2), object(1)\n",
      "memory usage: 51.5+ MB\n"
     ]
    }
   ],
   "source": [
    "# Visualization of a few rows observations\n",
    "train.info()"
   ]
  },
  {
   "cell_type": "markdown",
   "id": "f554f215",
   "metadata": {},
   "source": [
    "**Variables**:<br>\n",
    "| NOMBRE | DESCRIPCION  | TIPO | NULOS | CAMBIAR TIPO | \n",
    "|------------|--------------|--------------|--------------|------------|\n",
    "| id | Identificator of the subject | int | NO |  NO |\n",
    "| sexo | Subject's sex | bin | NO | YES |\n",
    "| Age | Subject's age (years) | int | NO | NO |\n",
    "| Height | Subject's height (cm) | float | NO | NO |\n",
    "| Weight | Subject's weight (kg) | float | NO | NO |\n",
    "| Duration | Exercice duration (min) | float | NO | NO |\n",
    "| Heart_Rate | Subject's heart rate (lpm) | float | NO | NO |\n",
    "| Body_Temp | Subject's boty temperature (ºC) | float | NO | NO |\n",
    "| Calories | Burnt calories (target) | float | NO | NO |\n",
    "\n",
    "\n",
    "\n",
    "\n"
   ]
  },
  {
   "cell_type": "code",
   "execution_count": 4,
   "id": "6ab0754d",
   "metadata": {},
   "outputs": [
    {
     "name": "stdout",
     "output_type": "stream",
     "text": [
      "Number of rows in train:    750000\n",
      "Number of rows in test:     250000\n",
      "Number of features:         8\n"
     ]
    }
   ],
   "source": [
    "# Informacion extra\n",
    "print(\"Number of rows in train:   \",train.shape[0])\n",
    "n_train = train.shape[0]\n",
    "print(\"Number of rows in test:    \",test_X.shape[0]) \n",
    "n_test = test_X.shape[0]\n",
    "print(\"Number of features:        \",train.shape[1]-1)\n",
    "n_features = train.shape[1]-1"
   ]
  },
  {
   "cell_type": "code",
   "execution_count": 5,
   "id": "aa323713",
   "metadata": {},
   "outputs": [],
   "source": [
    "# Indext change\n",
    "train.set_index(\"id\",inplace=True)\n",
    "train_X.set_index(\"id\",inplace=True)\n",
    "train_Y.set_index(\"id\",inplace=True)\n",
    "test_X.set_index(\"id\",inplace=True)\n",
    "test_Y.set_index(\"id\",inplace=True)"
   ]
  },
  {
   "cell_type": "code",
   "execution_count": 6,
   "id": "990bdc7a",
   "metadata": {},
   "outputs": [
    {
     "data": {
      "application/vnd.microsoft.datawrangler.viewer.v0+json": {
       "columns": [
        {
         "name": "id",
         "rawType": "int64",
         "type": "integer"
        },
        {
         "name": "Sex",
         "rawType": "object",
         "type": "string"
        },
        {
         "name": "Age",
         "rawType": "int64",
         "type": "integer"
        },
        {
         "name": "Height",
         "rawType": "float64",
         "type": "float"
        },
        {
         "name": "Weight",
         "rawType": "float64",
         "type": "float"
        },
        {
         "name": "Duration",
         "rawType": "float64",
         "type": "float"
        },
        {
         "name": "Heart_Rate",
         "rawType": "float64",
         "type": "float"
        },
        {
         "name": "Body_Temp",
         "rawType": "float64",
         "type": "float"
        },
        {
         "name": "Calories",
         "rawType": "float64",
         "type": "float"
        }
       ],
       "ref": "65d5d828-4b61-4e0b-8607-ce683b2ea659",
       "rows": [
        [
         "506143",
         "male",
         "63",
         "184.0",
         "89.0",
         "20.0",
         "108.0",
         "40.5",
         "186.0"
        ],
        [
         "322328",
         "male",
         "39",
         "184.0",
         "91.0",
         "7.0",
         "88.0",
         "39.2",
         "27.0"
        ],
        [
         "732371",
         "male",
         "33",
         "170.0",
         "72.0",
         "21.0",
         "102.0",
         "40.7",
         "112.0"
        ],
        [
         "125708",
         "male",
         "30",
         "175.0",
         "78.0",
         "15.0",
         "102.0",
         "40.0",
         "80.0"
        ],
        [
         "140904",
         "female",
         "50",
         "169.0",
         "66.0",
         "6.0",
         "92.0",
         "39.3",
         "29.0"
        ],
        [
         "75535",
         "female",
         "43",
         "154.0",
         "55.0",
         "7.0",
         "85.0",
         "39.2",
         "29.0"
        ],
        [
         "340366",
         "male",
         "44",
         "185.0",
         "87.0",
         "19.0",
         "97.0",
         "40.6",
         "107.0"
        ],
        [
         "217199",
         "female",
         "62",
         "164.0",
         "67.0",
         "4.0",
         "88.0",
         "39.1",
         "19.0"
        ],
        [
         "165046",
         "male",
         "22",
         "189.0",
         "90.0",
         "27.0",
         "107.0",
         "40.6",
         "156.0"
        ],
        [
         "313904",
         "female",
         "55",
         "166.0",
         "63.0",
         "12.0",
         "90.0",
         "39.8",
         "59.0"
        ]
       ],
       "shape": {
        "columns": 8,
        "rows": 10
       }
      },
      "text/html": [
       "<div>\n",
       "<style scoped>\n",
       "    .dataframe tbody tr th:only-of-type {\n",
       "        vertical-align: middle;\n",
       "    }\n",
       "\n",
       "    .dataframe tbody tr th {\n",
       "        vertical-align: top;\n",
       "    }\n",
       "\n",
       "    .dataframe thead th {\n",
       "        text-align: right;\n",
       "    }\n",
       "</style>\n",
       "<table border=\"1\" class=\"dataframe\">\n",
       "  <thead>\n",
       "    <tr style=\"text-align: right;\">\n",
       "      <th></th>\n",
       "      <th>Sex</th>\n",
       "      <th>Age</th>\n",
       "      <th>Height</th>\n",
       "      <th>Weight</th>\n",
       "      <th>Duration</th>\n",
       "      <th>Heart_Rate</th>\n",
       "      <th>Body_Temp</th>\n",
       "      <th>Calories</th>\n",
       "    </tr>\n",
       "    <tr>\n",
       "      <th>id</th>\n",
       "      <th></th>\n",
       "      <th></th>\n",
       "      <th></th>\n",
       "      <th></th>\n",
       "      <th></th>\n",
       "      <th></th>\n",
       "      <th></th>\n",
       "      <th></th>\n",
       "    </tr>\n",
       "  </thead>\n",
       "  <tbody>\n",
       "    <tr>\n",
       "      <th>506143</th>\n",
       "      <td>male</td>\n",
       "      <td>63</td>\n",
       "      <td>184.0</td>\n",
       "      <td>89.0</td>\n",
       "      <td>20.0</td>\n",
       "      <td>108.0</td>\n",
       "      <td>40.5</td>\n",
       "      <td>186.0</td>\n",
       "    </tr>\n",
       "    <tr>\n",
       "      <th>322328</th>\n",
       "      <td>male</td>\n",
       "      <td>39</td>\n",
       "      <td>184.0</td>\n",
       "      <td>91.0</td>\n",
       "      <td>7.0</td>\n",
       "      <td>88.0</td>\n",
       "      <td>39.2</td>\n",
       "      <td>27.0</td>\n",
       "    </tr>\n",
       "    <tr>\n",
       "      <th>732371</th>\n",
       "      <td>male</td>\n",
       "      <td>33</td>\n",
       "      <td>170.0</td>\n",
       "      <td>72.0</td>\n",
       "      <td>21.0</td>\n",
       "      <td>102.0</td>\n",
       "      <td>40.7</td>\n",
       "      <td>112.0</td>\n",
       "    </tr>\n",
       "    <tr>\n",
       "      <th>125708</th>\n",
       "      <td>male</td>\n",
       "      <td>30</td>\n",
       "      <td>175.0</td>\n",
       "      <td>78.0</td>\n",
       "      <td>15.0</td>\n",
       "      <td>102.0</td>\n",
       "      <td>40.0</td>\n",
       "      <td>80.0</td>\n",
       "    </tr>\n",
       "    <tr>\n",
       "      <th>140904</th>\n",
       "      <td>female</td>\n",
       "      <td>50</td>\n",
       "      <td>169.0</td>\n",
       "      <td>66.0</td>\n",
       "      <td>6.0</td>\n",
       "      <td>92.0</td>\n",
       "      <td>39.3</td>\n",
       "      <td>29.0</td>\n",
       "    </tr>\n",
       "    <tr>\n",
       "      <th>75535</th>\n",
       "      <td>female</td>\n",
       "      <td>43</td>\n",
       "      <td>154.0</td>\n",
       "      <td>55.0</td>\n",
       "      <td>7.0</td>\n",
       "      <td>85.0</td>\n",
       "      <td>39.2</td>\n",
       "      <td>29.0</td>\n",
       "    </tr>\n",
       "    <tr>\n",
       "      <th>340366</th>\n",
       "      <td>male</td>\n",
       "      <td>44</td>\n",
       "      <td>185.0</td>\n",
       "      <td>87.0</td>\n",
       "      <td>19.0</td>\n",
       "      <td>97.0</td>\n",
       "      <td>40.6</td>\n",
       "      <td>107.0</td>\n",
       "    </tr>\n",
       "    <tr>\n",
       "      <th>217199</th>\n",
       "      <td>female</td>\n",
       "      <td>62</td>\n",
       "      <td>164.0</td>\n",
       "      <td>67.0</td>\n",
       "      <td>4.0</td>\n",
       "      <td>88.0</td>\n",
       "      <td>39.1</td>\n",
       "      <td>19.0</td>\n",
       "    </tr>\n",
       "    <tr>\n",
       "      <th>165046</th>\n",
       "      <td>male</td>\n",
       "      <td>22</td>\n",
       "      <td>189.0</td>\n",
       "      <td>90.0</td>\n",
       "      <td>27.0</td>\n",
       "      <td>107.0</td>\n",
       "      <td>40.6</td>\n",
       "      <td>156.0</td>\n",
       "    </tr>\n",
       "    <tr>\n",
       "      <th>313904</th>\n",
       "      <td>female</td>\n",
       "      <td>55</td>\n",
       "      <td>166.0</td>\n",
       "      <td>63.0</td>\n",
       "      <td>12.0</td>\n",
       "      <td>90.0</td>\n",
       "      <td>39.8</td>\n",
       "      <td>59.0</td>\n",
       "    </tr>\n",
       "  </tbody>\n",
       "</table>\n",
       "</div>"
      ],
      "text/plain": [
       "           Sex  Age  Height  Weight  Duration  Heart_Rate  Body_Temp  Calories\n",
       "id                                                                            \n",
       "506143    male   63   184.0    89.0      20.0       108.0       40.5     186.0\n",
       "322328    male   39   184.0    91.0       7.0        88.0       39.2      27.0\n",
       "732371    male   33   170.0    72.0      21.0       102.0       40.7     112.0\n",
       "125708    male   30   175.0    78.0      15.0       102.0       40.0      80.0\n",
       "140904  female   50   169.0    66.0       6.0        92.0       39.3      29.0\n",
       "75535   female   43   154.0    55.0       7.0        85.0       39.2      29.0\n",
       "340366    male   44   185.0    87.0      19.0        97.0       40.6     107.0\n",
       "217199  female   62   164.0    67.0       4.0        88.0       39.1      19.0\n",
       "165046    male   22   189.0    90.0      27.0       107.0       40.6     156.0\n",
       "313904  female   55   166.0    63.0      12.0        90.0       39.8      59.0"
      ]
     },
     "execution_count": 6,
     "metadata": {},
     "output_type": "execute_result"
    }
   ],
   "source": [
    "# Some observations\n",
    "train.sample(10)"
   ]
  },
  {
   "cell_type": "code",
   "execution_count": 7,
   "id": "df08bc93",
   "metadata": {},
   "outputs": [
    {
     "name": "stdout",
     "output_type": "stream",
     "text": [
      "There are 2 classes.\n"
     ]
    },
    {
     "data": {
      "application/vnd.microsoft.datawrangler.viewer.v0+json": {
       "columns": [
        {
         "name": "id",
         "rawType": "int64",
         "type": "integer"
        },
        {
         "name": "Sex",
         "rawType": "object",
         "type": "unknown"
        },
        {
         "name": "Age",
         "rawType": "int64",
         "type": "integer"
        },
        {
         "name": "Height",
         "rawType": "float64",
         "type": "float"
        },
        {
         "name": "Weight",
         "rawType": "float64",
         "type": "float"
        },
        {
         "name": "Duration",
         "rawType": "float64",
         "type": "float"
        },
        {
         "name": "Heart_Rate",
         "rawType": "float64",
         "type": "float"
        },
        {
         "name": "Body_Temp",
         "rawType": "float64",
         "type": "float"
        }
       ],
       "ref": "a1d40bdf-aa9c-4721-afa8-18bf3e2996b8",
       "rows": [
        [
         "351208",
         "0",
         "37",
         "167.0",
         "63.0",
         "25.0",
         "109.0",
         "40.8"
        ],
        [
         "250506",
         "1",
         "20",
         "183.0",
         "83.0",
         "20.0",
         "98.0",
         "40.7"
        ],
        [
         "161950",
         "0",
         "73",
         "158.0",
         "59.0",
         "10.0",
         "93.0",
         "39.7"
        ],
        [
         "279934",
         "0",
         "20",
         "158.0",
         "54.0",
         "12.0",
         "91.0",
         "40.0"
        ],
        [
         "624968",
         "1",
         "32",
         "194.0",
         "94.0",
         "5.0",
         "88.0",
         "39.1"
        ],
        [
         "379504",
         "0",
         "62",
         "170.0",
         "65.0",
         "6.0",
         "80.0",
         "39.3"
        ],
        [
         "45564",
         "0",
         "24",
         "172.0",
         "69.0",
         "20.0",
         "101.0",
         "40.5"
        ],
        [
         "452168",
         "0",
         "44",
         "174.0",
         "72.0",
         "12.0",
         "88.0",
         "40.3"
        ],
        [
         "46778",
         "1",
         "26",
         "178.0",
         "82.0",
         "6.0",
         "84.0",
         "39.0"
        ],
        [
         "640640",
         "0",
         "64",
         "169.0",
         "68.0",
         "10.0",
         "92.0",
         "39.8"
        ]
       ],
       "shape": {
        "columns": 7,
        "rows": 10
       }
      },
      "text/html": [
       "<div>\n",
       "<style scoped>\n",
       "    .dataframe tbody tr th:only-of-type {\n",
       "        vertical-align: middle;\n",
       "    }\n",
       "\n",
       "    .dataframe tbody tr th {\n",
       "        vertical-align: top;\n",
       "    }\n",
       "\n",
       "    .dataframe thead th {\n",
       "        text-align: right;\n",
       "    }\n",
       "</style>\n",
       "<table border=\"1\" class=\"dataframe\">\n",
       "  <thead>\n",
       "    <tr style=\"text-align: right;\">\n",
       "      <th></th>\n",
       "      <th>Sex</th>\n",
       "      <th>Age</th>\n",
       "      <th>Height</th>\n",
       "      <th>Weight</th>\n",
       "      <th>Duration</th>\n",
       "      <th>Heart_Rate</th>\n",
       "      <th>Body_Temp</th>\n",
       "    </tr>\n",
       "    <tr>\n",
       "      <th>id</th>\n",
       "      <th></th>\n",
       "      <th></th>\n",
       "      <th></th>\n",
       "      <th></th>\n",
       "      <th></th>\n",
       "      <th></th>\n",
       "      <th></th>\n",
       "    </tr>\n",
       "  </thead>\n",
       "  <tbody>\n",
       "    <tr>\n",
       "      <th>351208</th>\n",
       "      <td>0</td>\n",
       "      <td>37</td>\n",
       "      <td>167.0</td>\n",
       "      <td>63.0</td>\n",
       "      <td>25.0</td>\n",
       "      <td>109.0</td>\n",
       "      <td>40.8</td>\n",
       "    </tr>\n",
       "    <tr>\n",
       "      <th>250506</th>\n",
       "      <td>1</td>\n",
       "      <td>20</td>\n",
       "      <td>183.0</td>\n",
       "      <td>83.0</td>\n",
       "      <td>20.0</td>\n",
       "      <td>98.0</td>\n",
       "      <td>40.7</td>\n",
       "    </tr>\n",
       "    <tr>\n",
       "      <th>161950</th>\n",
       "      <td>0</td>\n",
       "      <td>73</td>\n",
       "      <td>158.0</td>\n",
       "      <td>59.0</td>\n",
       "      <td>10.0</td>\n",
       "      <td>93.0</td>\n",
       "      <td>39.7</td>\n",
       "    </tr>\n",
       "    <tr>\n",
       "      <th>279934</th>\n",
       "      <td>0</td>\n",
       "      <td>20</td>\n",
       "      <td>158.0</td>\n",
       "      <td>54.0</td>\n",
       "      <td>12.0</td>\n",
       "      <td>91.0</td>\n",
       "      <td>40.0</td>\n",
       "    </tr>\n",
       "    <tr>\n",
       "      <th>624968</th>\n",
       "      <td>1</td>\n",
       "      <td>32</td>\n",
       "      <td>194.0</td>\n",
       "      <td>94.0</td>\n",
       "      <td>5.0</td>\n",
       "      <td>88.0</td>\n",
       "      <td>39.1</td>\n",
       "    </tr>\n",
       "    <tr>\n",
       "      <th>379504</th>\n",
       "      <td>0</td>\n",
       "      <td>62</td>\n",
       "      <td>170.0</td>\n",
       "      <td>65.0</td>\n",
       "      <td>6.0</td>\n",
       "      <td>80.0</td>\n",
       "      <td>39.3</td>\n",
       "    </tr>\n",
       "    <tr>\n",
       "      <th>45564</th>\n",
       "      <td>0</td>\n",
       "      <td>24</td>\n",
       "      <td>172.0</td>\n",
       "      <td>69.0</td>\n",
       "      <td>20.0</td>\n",
       "      <td>101.0</td>\n",
       "      <td>40.5</td>\n",
       "    </tr>\n",
       "    <tr>\n",
       "      <th>452168</th>\n",
       "      <td>0</td>\n",
       "      <td>44</td>\n",
       "      <td>174.0</td>\n",
       "      <td>72.0</td>\n",
       "      <td>12.0</td>\n",
       "      <td>88.0</td>\n",
       "      <td>40.3</td>\n",
       "    </tr>\n",
       "    <tr>\n",
       "      <th>46778</th>\n",
       "      <td>1</td>\n",
       "      <td>26</td>\n",
       "      <td>178.0</td>\n",
       "      <td>82.0</td>\n",
       "      <td>6.0</td>\n",
       "      <td>84.0</td>\n",
       "      <td>39.0</td>\n",
       "    </tr>\n",
       "    <tr>\n",
       "      <th>640640</th>\n",
       "      <td>0</td>\n",
       "      <td>64</td>\n",
       "      <td>169.0</td>\n",
       "      <td>68.0</td>\n",
       "      <td>10.0</td>\n",
       "      <td>92.0</td>\n",
       "      <td>39.8</td>\n",
       "    </tr>\n",
       "  </tbody>\n",
       "</table>\n",
       "</div>"
      ],
      "text/plain": [
       "       Sex  Age  Height  Weight  Duration  Heart_Rate  Body_Temp\n",
       "id                                                              \n",
       "351208   0   37   167.0    63.0      25.0       109.0       40.8\n",
       "250506   1   20   183.0    83.0      20.0        98.0       40.7\n",
       "161950   0   73   158.0    59.0      10.0        93.0       39.7\n",
       "279934   0   20   158.0    54.0      12.0        91.0       40.0\n",
       "624968   1   32   194.0    94.0       5.0        88.0       39.1\n",
       "379504   0   62   170.0    65.0       6.0        80.0       39.3\n",
       "45564    0   24   172.0    69.0      20.0       101.0       40.5\n",
       "452168   0   44   174.0    72.0      12.0        88.0       40.3\n",
       "46778    1   26   178.0    82.0       6.0        84.0       39.0\n",
       "640640   0   64   169.0    68.0      10.0        92.0       39.8"
      ]
     },
     "execution_count": 7,
     "metadata": {},
     "output_type": "execute_result"
    }
   ],
   "source": [
    "# Sex as boolean\n",
    "print(f\"There are {train_X[\"Sex\"].nunique()} classes.\")\n",
    "\n",
    "# 0 male, 1 female\n",
    "train_X.loc[train_X[\"Sex\"] == \"female\", \"Sex\"] = 0\n",
    "train_X.loc[train_X[\"Sex\"] == \"male\", \"Sex\"] = 1\n",
    "train_X.sample(10)\n"
   ]
  },
  {
   "cell_type": "code",
   "execution_count": 8,
   "id": "f90a8d46",
   "metadata": {},
   "outputs": [
    {
     "data": {
      "application/vnd.microsoft.datawrangler.viewer.v0+json": {
       "columns": [
        {
         "name": "index",
         "rawType": "object",
         "type": "string"
        },
        {
         "name": "Age",
         "rawType": "float64",
         "type": "float"
        },
        {
         "name": "Height",
         "rawType": "float64",
         "type": "float"
        },
        {
         "name": "Weight",
         "rawType": "float64",
         "type": "float"
        },
        {
         "name": "Duration",
         "rawType": "float64",
         "type": "float"
        },
        {
         "name": "Heart_Rate",
         "rawType": "float64",
         "type": "float"
        },
        {
         "name": "Body_Temp",
         "rawType": "float64",
         "type": "float"
        },
        {
         "name": "Calories",
         "rawType": "float64",
         "type": "float"
        }
       ],
       "ref": "b58e5c16-1c25-4172-954a-3986032b9f6f",
       "rows": [
        [
         "count",
         "750000.0",
         "750000.0",
         "750000.0",
         "750000.0",
         "750000.0",
         "750000.0",
         "750000.0"
        ],
        [
         "mean",
         "41.420404",
         "174.69768546666666",
         "75.145668",
         "15.421014666666666",
         "95.48399465764",
         "40.03625318080532",
         "88.28278133333333"
        ],
        [
         "std",
         "15.175048847354466",
         "12.824495661032993",
         "13.982703512617746",
         "8.35409542509932",
         "9.449845358526956",
         "0.7798745572755796",
         "62.39534902771433"
        ],
        [
         "min",
         "20.0",
         "126.0",
         "36.0",
         "1.0",
         "67.0",
         "37.1",
         "1.0"
        ],
        [
         "25%",
         "28.0",
         "164.0",
         "63.0",
         "8.0",
         "88.0",
         "39.6",
         "34.0"
        ],
        [
         "50%",
         "40.0",
         "174.0",
         "74.0",
         "15.0",
         "95.0",
         "40.3",
         "77.0"
        ],
        [
         "75%",
         "52.0",
         "185.0",
         "87.0",
         "23.0",
         "103.0",
         "40.7",
         "136.0"
        ],
        [
         "max",
         "79.0",
         "222.0",
         "132.0",
         "30.0",
         "128.0",
         "41.5",
         "314.0"
        ]
       ],
       "shape": {
        "columns": 7,
        "rows": 8
       }
      },
      "text/html": [
       "<div>\n",
       "<style scoped>\n",
       "    .dataframe tbody tr th:only-of-type {\n",
       "        vertical-align: middle;\n",
       "    }\n",
       "\n",
       "    .dataframe tbody tr th {\n",
       "        vertical-align: top;\n",
       "    }\n",
       "\n",
       "    .dataframe thead th {\n",
       "        text-align: right;\n",
       "    }\n",
       "</style>\n",
       "<table border=\"1\" class=\"dataframe\">\n",
       "  <thead>\n",
       "    <tr style=\"text-align: right;\">\n",
       "      <th></th>\n",
       "      <th>Age</th>\n",
       "      <th>Height</th>\n",
       "      <th>Weight</th>\n",
       "      <th>Duration</th>\n",
       "      <th>Heart_Rate</th>\n",
       "      <th>Body_Temp</th>\n",
       "      <th>Calories</th>\n",
       "    </tr>\n",
       "  </thead>\n",
       "  <tbody>\n",
       "    <tr>\n",
       "      <th>count</th>\n",
       "      <td>750000.000000</td>\n",
       "      <td>750000.000000</td>\n",
       "      <td>750000.000000</td>\n",
       "      <td>750000.000000</td>\n",
       "      <td>750000.000000</td>\n",
       "      <td>750000.000000</td>\n",
       "      <td>750000.000000</td>\n",
       "    </tr>\n",
       "    <tr>\n",
       "      <th>mean</th>\n",
       "      <td>41.420404</td>\n",
       "      <td>174.697685</td>\n",
       "      <td>75.145668</td>\n",
       "      <td>15.421015</td>\n",
       "      <td>95.483995</td>\n",
       "      <td>40.036253</td>\n",
       "      <td>88.282781</td>\n",
       "    </tr>\n",
       "    <tr>\n",
       "      <th>std</th>\n",
       "      <td>15.175049</td>\n",
       "      <td>12.824496</td>\n",
       "      <td>13.982704</td>\n",
       "      <td>8.354095</td>\n",
       "      <td>9.449845</td>\n",
       "      <td>0.779875</td>\n",
       "      <td>62.395349</td>\n",
       "    </tr>\n",
       "    <tr>\n",
       "      <th>min</th>\n",
       "      <td>20.000000</td>\n",
       "      <td>126.000000</td>\n",
       "      <td>36.000000</td>\n",
       "      <td>1.000000</td>\n",
       "      <td>67.000000</td>\n",
       "      <td>37.100000</td>\n",
       "      <td>1.000000</td>\n",
       "    </tr>\n",
       "    <tr>\n",
       "      <th>25%</th>\n",
       "      <td>28.000000</td>\n",
       "      <td>164.000000</td>\n",
       "      <td>63.000000</td>\n",
       "      <td>8.000000</td>\n",
       "      <td>88.000000</td>\n",
       "      <td>39.600000</td>\n",
       "      <td>34.000000</td>\n",
       "    </tr>\n",
       "    <tr>\n",
       "      <th>50%</th>\n",
       "      <td>40.000000</td>\n",
       "      <td>174.000000</td>\n",
       "      <td>74.000000</td>\n",
       "      <td>15.000000</td>\n",
       "      <td>95.000000</td>\n",
       "      <td>40.300000</td>\n",
       "      <td>77.000000</td>\n",
       "    </tr>\n",
       "    <tr>\n",
       "      <th>75%</th>\n",
       "      <td>52.000000</td>\n",
       "      <td>185.000000</td>\n",
       "      <td>87.000000</td>\n",
       "      <td>23.000000</td>\n",
       "      <td>103.000000</td>\n",
       "      <td>40.700000</td>\n",
       "      <td>136.000000</td>\n",
       "    </tr>\n",
       "    <tr>\n",
       "      <th>max</th>\n",
       "      <td>79.000000</td>\n",
       "      <td>222.000000</td>\n",
       "      <td>132.000000</td>\n",
       "      <td>30.000000</td>\n",
       "      <td>128.000000</td>\n",
       "      <td>41.500000</td>\n",
       "      <td>314.000000</td>\n",
       "    </tr>\n",
       "  </tbody>\n",
       "</table>\n",
       "</div>"
      ],
      "text/plain": [
       "                 Age         Height         Weight       Duration  \\\n",
       "count  750000.000000  750000.000000  750000.000000  750000.000000   \n",
       "mean       41.420404     174.697685      75.145668      15.421015   \n",
       "std        15.175049      12.824496      13.982704       8.354095   \n",
       "min        20.000000     126.000000      36.000000       1.000000   \n",
       "25%        28.000000     164.000000      63.000000       8.000000   \n",
       "50%        40.000000     174.000000      74.000000      15.000000   \n",
       "75%        52.000000     185.000000      87.000000      23.000000   \n",
       "max        79.000000     222.000000     132.000000      30.000000   \n",
       "\n",
       "          Heart_Rate      Body_Temp       Calories  \n",
       "count  750000.000000  750000.000000  750000.000000  \n",
       "mean       95.483995      40.036253      88.282781  \n",
       "std         9.449845       0.779875      62.395349  \n",
       "min        67.000000      37.100000       1.000000  \n",
       "25%        88.000000      39.600000      34.000000  \n",
       "50%        95.000000      40.300000      77.000000  \n",
       "75%       103.000000      40.700000     136.000000  \n",
       "max       128.000000      41.500000     314.000000  "
      ]
     },
     "execution_count": 8,
     "metadata": {},
     "output_type": "execute_result"
    }
   ],
   "source": [
    "train.describe()"
   ]
  },
  {
   "cell_type": "markdown",
   "id": "3c906707",
   "metadata": {},
   "source": [
    "In general, all features are within a reasonable range of values. The only weird thing is that the minimum weight is 36 kg, which, taking into consideration that the minimum age is 20 years old, is way too low. However, the minimum height is 126 cm, so maybe there are subjects with achondroplasia. If I’m right, there shouldn’t be any problems with the data, so I’ll work with the dataset ignoring these facts."
   ]
  },
  {
   "cell_type": "markdown",
   "id": "ba9e8d7c",
   "metadata": {},
   "source": [
    "### 1.2 Correlations"
   ]
  },
  {
   "cell_type": "code",
   "execution_count": 9,
   "id": "66762258",
   "metadata": {},
   "outputs": [
    {
     "data": {
      "image/png": "[encoded data removed]",
      "text/plain": [
       "<Figure size 640x480 with 1 Axes>"
      ]
     },
     "metadata": {},
     "output_type": "display_data"
    }
   ],
   "source": [
    "# Correlation matrix\n",
    "corr_matrix = train.drop(columns=[\"Sex\"]).corr() \n",
    "\n",
    "# Plot\n",
    "sns.heatmap(corr_matrix, annot=True, cmap=\"viridis\", linewidths=4, cbar=False,linecolor=\"gray\")\n",
    "plt.show()"
   ]
  },
  {
   "cell_type": "markdown",
   "id": "db17694a",
   "metadata": {},
   "source": [
    "Remarkable correlations:<br>\n",
    "- Calories-Duration (0.96): it has sense that the burnt-calories scales linearly with the duration of the exercise (taking into consideration that the intesity of the exercise should be constant).<br>\n",
    "- Calories-Heart_rate (0.91): more calories burnt equals a higher heart_rate.<br>\n",
    "- Calories-Boy_temp (0.83): when the body burnt calories generates heat, so no surprises here.<br>\n",
    "- Weight-Height (0.96): this was predictable too. <br>\n",
    "\n",
    "1. Maybe the height is not a interesting feature for this prediction. First, weight should be more important in how many calories you burn, because with bodyweight exercises, the bodywieght it's what you move. Also, the correlation height-weight is so high, so height do not give us any extra information.\n",
    "\n",
    "2. Body_temp, heart_rate and duration has high correlation with burnt-calories, so between them they have it high too. Maybe we cold just use duration in the model. "
   ]
  },
  {
   "cell_type": "markdown",
   "id": "29df7c11",
   "metadata": {},
   "source": [
    "### 1.3 Boxplots"
   ]
  },
  {
   "cell_type": "code",
   "execution_count": 10,
   "id": "64c7b34b",
   "metadata": {},
   "outputs": [
    {
     "data": {
      "image/png": "[encoded data removed]",
      "text/plain": [
       "<Figure size 1600x800 with 7 Axes>"
      ]
     },
     "metadata": {},
     "output_type": "display_data"
    }
   ],
   "source": [
    "# Figura y subplots\n",
    "fig, axes = plt.subplots(2,4, figsize=(4*4,2*4))\n",
    "axes = np.array(axes).reshape(-1)\n",
    "\n",
    "colors = [\"red\",\"green\",\"blue\",\"yellow\",\"purple\",\"orange\",\"pink\"]\n",
    "\n",
    "# Plots\n",
    "for i, feature in enumerate(train.drop(columns=[\"Sex\"]).columns):\n",
    "    sns.violinplot(y=train[feature],ax=axes[i], color=colors[i])\n",
    "    axes[i].set_title(f\"|{feature}|\")\n",
    "\n",
    "# Eliminar plots vacios \n",
    "for j in range(i + 1, len(axes)):\n",
    "    fig.delaxes(axes[j])\n",
    "\n",
    "plt.tight_layout()\n",
    "plt.show()"
   ]
  },
  {
   "cell_type": "markdown",
   "id": "aadffb3a",
   "metadata": {},
   "source": [
    "There are no significant outliers in the data."
   ]
  },
  {
   "cell_type": "markdown",
   "id": "b9010503",
   "metadata": {},
   "source": [
    "## 2. Models"
   ]
  },
  {
   "cell_type": "markdown",
   "id": "d5b9914b",
   "metadata": {},
   "source": [
    "Before making models, we must transform some features."
   ]
  },
  {
   "cell_type": "code",
   "execution_count": 11,
   "id": "07cda365",
   "metadata": {},
   "outputs": [
    {
     "name": "stdout",
     "output_type": "stream",
     "text": [
      "Means:\n",
      "\tFeature 'Age': 41.420\n",
      "\tFeature 'Height': 174.698\n",
      "\tFeature 'Weight': 75.146\n",
      "\tFeature 'Duration': 15.421\n",
      "\tFeature 'Heart_Rate': 95.484\n",
      "\tFeature 'Body_Temp': 40.036\n",
      "\n",
      "Standar deviation:\n",
      "\tFeature 'Age': 15.175\n",
      "\tFeature 'Height': 12.824\n",
      "\tFeature 'Weight': 13.983\n",
      "\tFeature 'Duration': 8.354\n",
      "\tFeature 'Heart_Rate': 9.450\n",
      "\tFeature 'Body_Temp': 0.780\n"
     ]
    },
    {
     "data": {
      "application/vnd.microsoft.datawrangler.viewer.v0+json": {
       "columns": [
        {
         "name": "id",
         "rawType": "int64",
         "type": "integer"
        },
        {
         "name": "Age",
         "rawType": "float64",
         "type": "float"
        },
        {
         "name": "Height",
         "rawType": "float64",
         "type": "float"
        },
        {
         "name": "Weight",
         "rawType": "float64",
         "type": "float"
        },
        {
         "name": "Duration",
         "rawType": "float64",
         "type": "float"
        },
        {
         "name": "Heart_Rate",
         "rawType": "float64",
         "type": "float"
        },
        {
         "name": "Body_Temp",
         "rawType": "float64",
         "type": "float"
        },
        {
         "name": "Sex",
         "rawType": "object",
         "type": "unknown"
        }
       ],
       "ref": "003e1fa9-4e37-4e46-af7f-db3980b45ddd",
       "rows": [
        [
         "694849",
         "-1.345657455143959",
         "1.1152348167325283",
         "1.34840480258724",
         "-0.17009808264116524",
         "0.16042657795064255",
         "-0.30293761490684856",
         "1"
        ],
        [
         "392529",
         "-0.29129441304629305",
         "1.1932106446401956",
         "0.8477859730200783",
         "1.3860259505626782",
         "1.5361113826702173",
         "0.7228690688354696",
         "1"
        ],
        [
         "711927",
         "-0.6207828637018137",
         "-0.054402601882479605",
         "-0.15345168611424465",
         "1.625429647978654",
         "1.3244675665595134",
         "0.7228690688354696",
         "0"
        ],
        [
         "191655",
         "-0.29129441304629305",
         "0.4134523655635236",
         "0.49020109475782014",
         "-0.888309174889093",
         "-0.6861486864921726",
         "-0.6876151213102122",
         "1"
        ],
        [
         "364477",
         "1.883329361280143",
         "-0.28833008560548123",
         "-0.010417734809341366",
         "-0.768607326181105",
         "-0.6861486864921726",
         "-0.1747117794390577",
         "1"
        ]
       ],
       "shape": {
        "columns": 7,
        "rows": 5
       }
      },
      "text/html": [
       "<div>\n",
       "<style scoped>\n",
       "    .dataframe tbody tr th:only-of-type {\n",
       "        vertical-align: middle;\n",
       "    }\n",
       "\n",
       "    .dataframe tbody tr th {\n",
       "        vertical-align: top;\n",
       "    }\n",
       "\n",
       "    .dataframe thead th {\n",
       "        text-align: right;\n",
       "    }\n",
       "</style>\n",
       "<table border=\"1\" class=\"dataframe\">\n",
       "  <thead>\n",
       "    <tr style=\"text-align: right;\">\n",
       "      <th></th>\n",
       "      <th>Age</th>\n",
       "      <th>Height</th>\n",
       "      <th>Weight</th>\n",
       "      <th>Duration</th>\n",
       "      <th>Heart_Rate</th>\n",
       "      <th>Body_Temp</th>\n",
       "      <th>Sex</th>\n",
       "    </tr>\n",
       "    <tr>\n",
       "      <th>id</th>\n",
       "      <th></th>\n",
       "      <th></th>\n",
       "      <th></th>\n",
       "      <th></th>\n",
       "      <th></th>\n",
       "      <th></th>\n",
       "      <th></th>\n",
       "    </tr>\n",
       "  </thead>\n",
       "  <tbody>\n",
       "    <tr>\n",
       "      <th>694849</th>\n",
       "      <td>-1.345657</td>\n",
       "      <td>1.115235</td>\n",
       "      <td>1.348405</td>\n",
       "      <td>-0.170098</td>\n",
       "      <td>0.160427</td>\n",
       "      <td>-0.302938</td>\n",
       "      <td>1</td>\n",
       "    </tr>\n",
       "    <tr>\n",
       "      <th>392529</th>\n",
       "      <td>-0.291294</td>\n",
       "      <td>1.193211</td>\n",
       "      <td>0.847786</td>\n",
       "      <td>1.386026</td>\n",
       "      <td>1.536111</td>\n",
       "      <td>0.722869</td>\n",
       "      <td>1</td>\n",
       "    </tr>\n",
       "    <tr>\n",
       "      <th>711927</th>\n",
       "      <td>-0.620783</td>\n",
       "      <td>-0.054403</td>\n",
       "      <td>-0.153452</td>\n",
       "      <td>1.625430</td>\n",
       "      <td>1.324468</td>\n",
       "      <td>0.722869</td>\n",
       "      <td>0</td>\n",
       "    </tr>\n",
       "    <tr>\n",
       "      <th>191655</th>\n",
       "      <td>-0.291294</td>\n",
       "      <td>0.413452</td>\n",
       "      <td>0.490201</td>\n",
       "      <td>-0.888309</td>\n",
       "      <td>-0.686149</td>\n",
       "      <td>-0.687615</td>\n",
       "      <td>1</td>\n",
       "    </tr>\n",
       "    <tr>\n",
       "      <th>364477</th>\n",
       "      <td>1.883329</td>\n",
       "      <td>-0.288330</td>\n",
       "      <td>-0.010418</td>\n",
       "      <td>-0.768607</td>\n",
       "      <td>-0.686149</td>\n",
       "      <td>-0.174712</td>\n",
       "      <td>1</td>\n",
       "    </tr>\n",
       "  </tbody>\n",
       "</table>\n",
       "</div>"
      ],
      "text/plain": [
       "             Age    Height    Weight  Duration  Heart_Rate  Body_Temp Sex\n",
       "id                                                                       \n",
       "694849 -1.345657  1.115235  1.348405 -0.170098    0.160427  -0.302938   1\n",
       "392529 -0.291294  1.193211  0.847786  1.386026    1.536111   0.722869   1\n",
       "711927 -0.620783 -0.054403 -0.153452  1.625430    1.324468   0.722869   0\n",
       "191655 -0.291294  0.413452  0.490201 -0.888309   -0.686149  -0.687615   1\n",
       "364477  1.883329 -0.288330 -0.010418 -0.768607   -0.686149  -0.174712   1"
      ]
     },
     "execution_count": 11,
     "metadata": {},
     "output_type": "execute_result"
    }
   ],
   "source": [
    "# Standar scaler\n",
    "train_X_np = train_X.drop(columns=[\"Sex\"]).to_numpy()\n",
    "np.set_printoptions(suppress=True)\n",
    "train_mean_vec = np.mean(train_X_np, axis=0)\n",
    "train_std_vec = np.std(train_X_np, axis=0)\n",
    "\n",
    "# Calcule means and std's\n",
    "print(\"Means:\")\n",
    "for i,f in enumerate(train_X.drop(columns=[\"Sex\"]).columns):\n",
    "    print(f\"\\tFeature '{f}': {train_mean_vec[i]:{\".3f\"}}\")  \n",
    "    \n",
    "\n",
    "print(\"\\nStandar deviation:\")\n",
    "for i,f in enumerate(train_X.drop(columns=[\"Sex\"]).columns):\n",
    "    print(f\"\\tFeature '{f}': {train_std_vec[i]:{\".3f\"}}\")  \n",
    "\n",
    "# Standarize and reconstruct de DataFrame object \n",
    "train_X_processed = pd.DataFrame((train_X_np - train_mean_vec)/train_std_vec,\n",
    "                            columns=train_X.drop(columns=[\"Sex\"]).columns,\n",
    "                            index=train_X.index)\n",
    "\n",
    "# Add the remaining columns\n",
    "train_X_processed[\"Sex\"] = train_X[\"Sex\"]    \n",
    "\n",
    "train_X_processed.sample(5)"
   ]
  },
  {
   "cell_type": "markdown",
   "id": "53dfeaf5",
   "metadata": {},
   "source": [
    "Now I'll train some models. After that, we will test them with the \"test\" data."
   ]
  },
  {
   "cell_type": "markdown",
   "id": "e9044eeb",
   "metadata": {},
   "source": [
    "### 2.1 Linear Regresion"
   ]
  },
  {
   "cell_type": "code",
   "execution_count": null,
   "id": "891e512f",
   "metadata": {},
   "outputs": [],
   "source": [
    "# Most basic model: linear regresion\n",
    "\n",
    "linear_model = sklearn.linear_model.LinearRegression(n_jobs=-1)\n",
    "linear_model.fit(train_X_processed, train_Y)\n",
    "pred = linear_model.predict(train_X_processed)\n",
    "\n",
    "print(f\"MSE: {mean_squared_error(train_Y, pred)}\")\n",
    "print(f\"MAE: {mean_absolute_error(train_Y, pred)}\")\n",
    "\n",
    "# Support Vector Regresor \n",
    "svr_model = sklearn.svm.SVR()\n",
    "\n",
    "param_grid = {\n",
    "    'kernel' : [\"rbf\"],\n",
    "    'C': [0.1],\n",
    "    'gamma': [\"auto\"]\n",
    "}\n",
    "\n",
    "'''\n",
    "param_grid = {\n",
    "    'kernel' : [\"rbf\",\"poly\",\"sigmoid\"],\n",
    "    'C': [0.1,1,10],\n",
    "    'gamma': [\"auto\",\"scale\"]\n",
    "}'''\n",
    "\n",
    "grid_search = GridSearchCV(svr_model, param_grid=param_grid, cv=3, scoring=\"neg_mean_squared_error\")\n",
    "grid_search.fit(train_X_processed, train_Y)\n",
    "\n",
    "print(f\"Best params: {grid_search.best_params_}\")"
   ]
  }
 ],
 "metadata": {
  "kernelspec": {
   "display_name": ".env",
   "language": "python",
   "name": "python3"
  },
  "language_info": {
   "codemirror_mode": {
    "name": "ipython",
    "version": 3
   },
   "file_extension": ".py",
   "mimetype": "text/x-python",
   "name": "python",
   "nbconvert_exporter": "python",
   "pygments_lexer": "ipython3",
   "version": "3.12.0"
  }
 },
 "nbformat": 4,
 "nbformat_minor": 5
}
